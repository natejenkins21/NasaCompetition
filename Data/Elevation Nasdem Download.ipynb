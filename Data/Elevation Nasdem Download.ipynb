{
 "cells": [
  {
   "cell_type": "code",
   "execution_count": 3,
   "id": "e824b1dd-27f1-42e6-a50f-1b7aad422b60",
   "metadata": {},
   "outputs": [],
   "source": [
    "import planetary_computer as pc\n",
    "import xarray as xr\n",
    "from xrspatial import hillshade\n",
    "from datashader.transfer_functions import shade, stack\n",
    "from datashader.colors import Elevation\n",
    "from matplotlib import pyplot as plt\n",
    "import shapely.wkt\n",
    "from pystac_client import Client\n",
    "import pandas as pd\n",
    "import numpy as np"
   ]
  },
  {
   "cell_type": "code",
   "execution_count": 4,
   "id": "19a0ab09-81fe-4b0e-bfc7-9e228cc68ee2",
   "metadata": {},
   "outputs": [],
   "source": [
    "grid_data = pd.read_csv(\"./grid_metadata.csv\")"
   ]
  },
  {
   "cell_type": "code",
   "execution_count": 104,
   "id": "b74f1a31-46b3-4f99-820e-666cbe86ebd4",
   "metadata": {},
   "outputs": [
    {
     "name": "stdout",
     "output_type": "stream",
     "text": [
      "[121.4808486829302, 24.97766123020391, 121.5257644471362, 25.01836939334328]\n"
     ]
    },
    {
     "name": "stderr",
     "output_type": "stream",
     "text": [
      "/opt/conda/lib/python3.7/site-packages/ipykernel_launcher.py:14: DeprecationWarning: open_rasterio is Deprecated in favor of rioxarray. For information about transitioning, see: https://corteva.github.io/rioxarray/stable/getting_started/getting_started.html\n",
      "  \n"
     ]
    },
    {
     "name": "stdout",
     "output_type": "stream",
     "text": [
      "[77.25961601995678, 28.54664454217707, 77.30453178416276, 28.58609243100243]\n"
     ]
    },
    {
     "name": "stderr",
     "output_type": "stream",
     "text": [
      "/opt/conda/lib/python3.7/site-packages/ipykernel_launcher.py:14: DeprecationWarning: open_rasterio is Deprecated in favor of rioxarray. For information about transitioning, see: https://corteva.github.io/rioxarray/stable/getting_started/getting_started.html\n",
      "  \n"
     ]
    },
    {
     "name": "stdout",
     "output_type": "stream",
     "text": [
      "[-117.9787405899055, 33.79558357488509, -117.9338248256995, 33.83290166381627]\n"
     ]
    },
    {
     "name": "stderr",
     "output_type": "stream",
     "text": [
      "/opt/conda/lib/python3.7/site-packages/ipykernel_launcher.py:14: DeprecationWarning: open_rasterio is Deprecated in favor of rioxarray. For information about transitioning, see: https://corteva.github.io/rioxarray/stable/getting_started/getting_started.html\n",
      "  \n"
     ]
    },
    {
     "name": "stdout",
     "output_type": "stream",
     "text": [
      "[77.0350371989269, 28.54664454217707, 77.07995296313287, 28.58609243100243]\n"
     ]
    },
    {
     "name": "stderr",
     "output_type": "stream",
     "text": [
      "/opt/conda/lib/python3.7/site-packages/ipykernel_launcher.py:14: DeprecationWarning: open_rasterio is Deprecated in favor of rioxarray. For information about transitioning, see: https://corteva.github.io/rioxarray/stable/getting_started/getting_started.html\n",
      "  \n"
     ]
    },
    {
     "name": "stdout",
     "output_type": "stream",
     "text": [
      "[77.07995296313287, 28.54664454217707, 77.12486872733885, 28.58609243100243]\n"
     ]
    },
    {
     "name": "stderr",
     "output_type": "stream",
     "text": [
      "/opt/conda/lib/python3.7/site-packages/ipykernel_launcher.py:14: DeprecationWarning: open_rasterio is Deprecated in favor of rioxarray. For information about transitioning, see: https://corteva.github.io/rioxarray/stable/getting_started/getting_started.html\n",
      "  \n"
     ]
    },
    {
     "name": "stdout",
     "output_type": "stream",
     "text": [
      "[76.90028990630897, 28.54664454217707, 76.94520567051495, 28.58609243100243]\n"
     ]
    },
    {
     "name": "stderr",
     "output_type": "stream",
     "text": [
      "/opt/conda/lib/python3.7/site-packages/ipykernel_launcher.py:14: DeprecationWarning: open_rasterio is Deprecated in favor of rioxarray. For information about transitioning, see: https://corteva.github.io/rioxarray/stable/getting_started/getting_started.html\n",
      "  \n"
     ]
    },
    {
     "name": "stdout",
     "output_type": "stream",
     "text": [
      "[77.07995296313287, 28.58609243100243, 77.12486872733885, 28.62552552598286]\n"
     ]
    },
    {
     "name": "stderr",
     "output_type": "stream",
     "text": [
      "/opt/conda/lib/python3.7/site-packages/ipykernel_launcher.py:14: DeprecationWarning: open_rasterio is Deprecated in favor of rioxarray. For information about transitioning, see: https://corteva.github.io/rioxarray/stable/getting_started/getting_started.html\n",
      "  \n"
     ]
    },
    {
     "name": "stdout",
     "output_type": "stream",
     "text": [
      "[77.25961601995678, 28.46770443564941, 77.30453178416276, 28.50718187266299]\n"
     ]
    },
    {
     "name": "stderr",
     "output_type": "stream",
     "text": [
      "/opt/conda/lib/python3.7/site-packages/ipykernel_launcher.py:14: DeprecationWarning: open_rasterio is Deprecated in favor of rioxarray. For information about transitioning, see: https://corteva.github.io/rioxarray/stable/getting_started/getting_started.html\n",
      "  \n"
     ]
    },
    {
     "name": "stdout",
     "output_type": "stream",
     "text": [
      "[121.5257644471362, 25.01836939334328, 121.5706802113421, 25.05906406274214]\n"
     ]
    },
    {
     "name": "stderr",
     "output_type": "stream",
     "text": [
      "/opt/conda/lib/python3.7/site-packages/ipykernel_launcher.py:14: DeprecationWarning: open_rasterio is Deprecated in favor of rioxarray. For information about transitioning, see: https://corteva.github.io/rioxarray/stable/getting_started/getting_started.html\n",
      "  \n"
     ]
    },
    {
     "name": "stdout",
     "output_type": "stream",
     "text": [
      "[77.16978449154482, 28.62552552598286, 77.21470025575081, 28.66494381399507]\n"
     ]
    },
    {
     "name": "stderr",
     "output_type": "stream",
     "text": [
      "/opt/conda/lib/python3.7/site-packages/ipykernel_launcher.py:14: DeprecationWarning: open_rasterio is Deprecated in favor of rioxarray. For information about transitioning, see: https://corteva.github.io/rioxarray/stable/getting_started/getting_started.html\n",
      "  \n"
     ]
    },
    {
     "name": "stdout",
     "output_type": "stream",
     "text": [
      "[121.5257644471362, 25.05906406274214, 121.5706802113421, 25.09974522235117]\n"
     ]
    },
    {
     "name": "stderr",
     "output_type": "stream",
     "text": [
      "/opt/conda/lib/python3.7/site-packages/ipykernel_launcher.py:14: DeprecationWarning: open_rasterio is Deprecated in favor of rioxarray. For information about transitioning, see: https://corteva.github.io/rioxarray/stable/getting_started/getting_started.html\n",
      "  \n"
     ]
    },
    {
     "name": "stdout",
     "output_type": "stream",
     "text": [
      "[-117.4397514194338, 33.98201108613195, -117.3948356552278, 34.01924766510738]\n"
     ]
    },
    {
     "name": "stderr",
     "output_type": "stream",
     "text": [
      "/opt/conda/lib/python3.7/site-packages/ipykernel_launcher.py:14: DeprecationWarning: open_rasterio is Deprecated in favor of rioxarray. For information about transitioning, see: https://corteva.github.io/rioxarray/stable/getting_started/getting_started.html\n",
      "  \n"
     ]
    },
    {
     "name": "stdout",
     "output_type": "stream",
     "text": [
      "[77.21470025575081, 28.58609243100243, 77.25961601995678, 28.62552552598286]\n"
     ]
    },
    {
     "name": "stderr",
     "output_type": "stream",
     "text": [
      "/opt/conda/lib/python3.7/site-packages/ipykernel_launcher.py:14: DeprecationWarning: open_rasterio is Deprecated in favor of rioxarray. For information about transitioning, see: https://corteva.github.io/rioxarray/stable/getting_started/getting_started.html\n",
      "  \n"
     ]
    },
    {
     "name": "stdout",
     "output_type": "stream",
     "text": [
      "[77.21470025575081, 28.70434728194878, 77.25961601995678, 28.74373591678664]\n"
     ]
    },
    {
     "name": "stderr",
     "output_type": "stream",
     "text": [
      "/opt/conda/lib/python3.7/site-packages/ipykernel_launcher.py:14: DeprecationWarning: open_rasterio is Deprecated in favor of rioxarray. For information about transitioning, see: https://corteva.github.io/rioxarray/stable/getting_started/getting_started.html\n",
      "  \n"
     ]
    },
    {
     "name": "stdout",
     "output_type": "stream",
     "text": [
      "[77.16978449154482, 28.50718187266299, 77.21470025575081, 28.54664454217707]\n"
     ]
    },
    {
     "name": "stderr",
     "output_type": "stream",
     "text": [
      "/opt/conda/lib/python3.7/site-packages/ipykernel_launcher.py:14: DeprecationWarning: open_rasterio is Deprecated in favor of rioxarray. For information about transitioning, see: https://corteva.github.io/rioxarray/stable/getting_started/getting_started.html\n",
      "  \n"
     ]
    },
    {
     "name": "stdout",
     "output_type": "stream",
     "text": [
      "[77.25961601995678, 28.66494381399507, 77.30453178416276, 28.70434728194878]\n"
     ]
    },
    {
     "name": "stderr",
     "output_type": "stream",
     "text": [
      "/opt/conda/lib/python3.7/site-packages/ipykernel_launcher.py:14: DeprecationWarning: open_rasterio is Deprecated in favor of rioxarray. For information about transitioning, see: https://corteva.github.io/rioxarray/stable/getting_started/getting_started.html\n",
      "  \n"
     ]
    },
    {
     "name": "stdout",
     "output_type": "stream",
     "text": [
      "[77.12486872733885, 28.70434728194878, 77.16978449154482, 28.74373591678664]\n"
     ]
    },
    {
     "name": "stderr",
     "output_type": "stream",
     "text": [
      "/opt/conda/lib/python3.7/site-packages/ipykernel_launcher.py:14: DeprecationWarning: open_rasterio is Deprecated in favor of rioxarray. For information about transitioning, see: https://corteva.github.io/rioxarray/stable/getting_started/getting_started.html\n",
      "  \n"
     ]
    },
    {
     "name": "stdout",
     "output_type": "stream",
     "text": [
      "[77.30453178416276, 28.66494381399507, 77.34944754836873, 28.70434728194878]\n"
     ]
    },
    {
     "name": "stderr",
     "output_type": "stream",
     "text": [
      "/opt/conda/lib/python3.7/site-packages/ipykernel_launcher.py:14: DeprecationWarning: open_rasterio is Deprecated in favor of rioxarray. For information about transitioning, see: https://corteva.github.io/rioxarray/stable/getting_started/getting_started.html\n",
      "  \n"
     ]
    },
    {
     "name": "stdout",
     "output_type": "stream",
     "text": [
      "[-118.3829824677593, 34.16803061743935, -118.3380667035533, 34.20518547216206]\n"
     ]
    },
    {
     "name": "stderr",
     "output_type": "stream",
     "text": [
      "/opt/conda/lib/python3.7/site-packages/ipykernel_launcher.py:14: DeprecationWarning: open_rasterio is Deprecated in favor of rioxarray. For information about transitioning, see: https://corteva.github.io/rioxarray/stable/getting_started/getting_started.html\n",
      "  \n"
     ]
    },
    {
     "name": "stdout",
     "output_type": "stream",
     "text": [
      "[-117.6643302404637, 34.09367183102137, -117.6194144762577, 34.13085940091023]\n"
     ]
    },
    {
     "name": "stderr",
     "output_type": "stream",
     "text": [
      "/opt/conda/lib/python3.7/site-packages/ipykernel_launcher.py:14: DeprecationWarning: open_rasterio is Deprecated in favor of rioxarray. For information about transitioning, see: https://corteva.github.io/rioxarray/stable/getting_started/getting_started.html\n",
      "  \n"
     ]
    },
    {
     "name": "stdout",
     "output_type": "stream",
     "text": [
      "[76.99012143472092, 28.58609243100243, 77.0350371989269, 28.62552552598286]\n"
     ]
    },
    {
     "name": "stderr",
     "output_type": "stream",
     "text": [
      "/opt/conda/lib/python3.7/site-packages/ipykernel_launcher.py:14: DeprecationWarning: open_rasterio is Deprecated in favor of rioxarray. For information about transitioning, see: https://corteva.github.io/rioxarray/stable/getting_started/getting_started.html\n",
      "  \n"
     ]
    },
    {
     "name": "stdout",
     "output_type": "stream",
     "text": [
      "[-117.5295829478457, 33.98201108613195, -117.4846671836398, 34.01924766510738]\n"
     ]
    },
    {
     "name": "stderr",
     "output_type": "stream",
     "text": [
      "/opt/conda/lib/python3.7/site-packages/ipykernel_launcher.py:14: DeprecationWarning: open_rasterio is Deprecated in favor of rioxarray. For information about transitioning, see: https://corteva.github.io/rioxarray/stable/getting_started/getting_started.html\n",
      "  \n"
     ]
    },
    {
     "name": "stdout",
     "output_type": "stream",
     "text": [
      "[-118.2033194109354, 33.83290166381627, -118.1584036467294, 33.87020346808818]\n"
     ]
    },
    {
     "name": "stderr",
     "output_type": "stream",
     "text": [
      "/opt/conda/lib/python3.7/site-packages/ipykernel_launcher.py:14: DeprecationWarning: open_rasterio is Deprecated in favor of rioxarray. For information about transitioning, see: https://corteva.github.io/rioxarray/stable/getting_started/getting_started.html\n",
      "  \n"
     ]
    },
    {
     "name": "stdout",
     "output_type": "stream",
     "text": [
      "[77.07995296313287, 28.74373591678664, 77.12486872733885, 28.7831097054843]\n"
     ]
    },
    {
     "name": "stderr",
     "output_type": "stream",
     "text": [
      "/opt/conda/lib/python3.7/site-packages/ipykernel_launcher.py:14: DeprecationWarning: open_rasterio is Deprecated in favor of rioxarray. For information about transitioning, see: https://corteva.github.io/rioxarray/stable/getting_started/getting_started.html\n",
      "  \n"
     ]
    },
    {
     "name": "stdout",
     "output_type": "stream",
     "text": [
      "[77.07995296313287, 28.46770443564941, 77.12486872733885, 28.50718187266299]\n"
     ]
    },
    {
     "name": "stderr",
     "output_type": "stream",
     "text": [
      "/opt/conda/lib/python3.7/site-packages/ipykernel_launcher.py:14: DeprecationWarning: open_rasterio is Deprecated in favor of rioxarray. For information about transitioning, see: https://corteva.github.io/rioxarray/stable/getting_started/getting_started.html\n",
      "  \n"
     ]
    },
    {
     "name": "stdout",
     "output_type": "stream",
     "text": [
      "[77.16978449154482, 28.66494381399507, 77.21470025575081, 28.70434728194878]\n"
     ]
    },
    {
     "name": "stderr",
     "output_type": "stream",
     "text": [
      "/opt/conda/lib/python3.7/site-packages/ipykernel_launcher.py:14: DeprecationWarning: open_rasterio is Deprecated in favor of rioxarray. For information about transitioning, see: https://corteva.github.io/rioxarray/stable/getting_started/getting_started.html\n",
      "  \n"
     ]
    },
    {
     "name": "stdout",
     "output_type": "stream",
     "text": [
      "[-118.5626455245832, 34.16803061743935, -118.5177297603772, 34.20518547216206]\n"
     ]
    },
    {
     "name": "stderr",
     "output_type": "stream",
     "text": [
      "/opt/conda/lib/python3.7/site-packages/ipykernel_launcher.py:14: DeprecationWarning: open_rasterio is Deprecated in favor of rioxarray. For information about transitioning, see: https://corteva.github.io/rioxarray/stable/getting_started/getting_started.html\n",
      "  \n"
     ]
    },
    {
     "name": "stdout",
     "output_type": "stream",
     "text": [
      "[77.16978449154482, 28.54664454217707, 77.21470025575081, 28.58609243100243]\n"
     ]
    },
    {
     "name": "stderr",
     "output_type": "stream",
     "text": [
      "/opt/conda/lib/python3.7/site-packages/ipykernel_launcher.py:14: DeprecationWarning: open_rasterio is Deprecated in favor of rioxarray. For information about transitioning, see: https://corteva.github.io/rioxarray/stable/getting_started/getting_started.html\n",
      "  \n"
     ]
    },
    {
     "name": "stdout",
     "output_type": "stream",
     "text": [
      "[77.07995296313287, 28.66494381399507, 77.12486872733885, 28.70434728194878]\n"
     ]
    },
    {
     "name": "stderr",
     "output_type": "stream",
     "text": [
      "/opt/conda/lib/python3.7/site-packages/ipykernel_launcher.py:14: DeprecationWarning: open_rasterio is Deprecated in favor of rioxarray. For information about transitioning, see: https://corteva.github.io/rioxarray/stable/getting_started/getting_started.html\n",
      "  \n"
     ]
    },
    {
     "name": "stdout",
     "output_type": "stream",
     "text": [
      "[77.21470025575081, 28.62552552598286, 77.25961601995678, 28.66494381399507]\n"
     ]
    },
    {
     "name": "stderr",
     "output_type": "stream",
     "text": [
      "/opt/conda/lib/python3.7/site-packages/ipykernel_launcher.py:14: DeprecationWarning: open_rasterio is Deprecated in favor of rioxarray. For information about transitioning, see: https://corteva.github.io/rioxarray/stable/getting_started/getting_started.html\n",
      "  \n"
     ]
    },
    {
     "name": "stdout",
     "output_type": "stream",
     "text": [
      "[121.5706802113421, 25.01836939334328, 121.6155959755481, 25.05906406274214]\n"
     ]
    },
    {
     "name": "stderr",
     "output_type": "stream",
     "text": [
      "/opt/conda/lib/python3.7/site-packages/ipykernel_launcher.py:14: DeprecationWarning: open_rasterio is Deprecated in favor of rioxarray. For information about transitioning, see: https://corteva.github.io/rioxarray/stable/getting_started/getting_started.html\n",
      "  \n"
     ]
    },
    {
     "name": "stdout",
     "output_type": "stream",
     "text": [
      "[77.12486872733885, 28.62552552598286, 77.16978449154482, 28.66494381399507]\n"
     ]
    },
    {
     "name": "stderr",
     "output_type": "stream",
     "text": [
      "/opt/conda/lib/python3.7/site-packages/ipykernel_launcher.py:14: DeprecationWarning: open_rasterio is Deprecated in favor of rioxarray. For information about transitioning, see: https://corteva.github.io/rioxarray/stable/getting_started/getting_started.html\n",
      "  \n"
     ]
    },
    {
     "name": "stdout",
     "output_type": "stream",
     "text": [
      "[77.07995296313287, 28.82246863505031, 77.12486872733885, 28.86181269252625]\n"
     ]
    },
    {
     "name": "stderr",
     "output_type": "stream",
     "text": [
      "/opt/conda/lib/python3.7/site-packages/ipykernel_launcher.py:14: DeprecationWarning: open_rasterio is Deprecated in favor of rioxarray. For information about transitioning, see: https://corteva.github.io/rioxarray/stable/getting_started/getting_started.html\n",
      "  \n"
     ]
    },
    {
     "name": "stdout",
     "output_type": "stream",
     "text": [
      "[77.21470025575081, 28.54664454217707, 77.25961601995678, 28.58609243100243]\n"
     ]
    },
    {
     "name": "stderr",
     "output_type": "stream",
     "text": [
      "/opt/conda/lib/python3.7/site-packages/ipykernel_launcher.py:14: DeprecationWarning: open_rasterio is Deprecated in favor of rioxarray. For information about transitioning, see: https://corteva.github.io/rioxarray/stable/getting_started/getting_started.html\n",
      "  \n"
     ]
    },
    {
     "name": "stdout",
     "output_type": "stream",
     "text": [
      "[-118.2482351751414, 34.05646791625069, -118.2033194109354, 34.09367183102137]\n"
     ]
    },
    {
     "name": "stderr",
     "output_type": "stream",
     "text": [
      "/opt/conda/lib/python3.7/site-packages/ipykernel_launcher.py:14: DeprecationWarning: open_rasterio is Deprecated in favor of rioxarray. For information about transitioning, see: https://corteva.github.io/rioxarray/stable/getting_started/getting_started.html\n",
      "  \n"
     ]
    },
    {
     "name": "stdout",
     "output_type": "stream",
     "text": [
      "[77.16978449154482, 28.70434728194878, 77.21470025575081, 28.74373591678664]\n"
     ]
    },
    {
     "name": "stderr",
     "output_type": "stream",
     "text": [
      "/opt/conda/lib/python3.7/site-packages/ipykernel_launcher.py:14: DeprecationWarning: open_rasterio is Deprecated in favor of rioxarray. For information about transitioning, see: https://corteva.github.io/rioxarray/stable/getting_started/getting_started.html\n",
      "  \n"
     ]
    },
    {
     "name": "stdout",
     "output_type": "stream",
     "text": [
      "[76.90028990630897, 28.66494381399507, 76.94520567051495, 28.70434728194878]\n"
     ]
    },
    {
     "name": "stderr",
     "output_type": "stream",
     "text": [
      "/opt/conda/lib/python3.7/site-packages/ipykernel_launcher.py:14: DeprecationWarning: open_rasterio is Deprecated in favor of rioxarray. For information about transitioning, see: https://corteva.github.io/rioxarray/stable/getting_started/getting_started.html\n",
      "  \n"
     ]
    },
    {
     "name": "stdout",
     "output_type": "stream",
     "text": [
      "[-118.5626455245832, 34.35364110514904, -118.5177297603772, 34.39071402523285]\n"
     ]
    },
    {
     "name": "stderr",
     "output_type": "stream",
     "text": [
      "/opt/conda/lib/python3.7/site-packages/ipykernel_launcher.py:14: DeprecationWarning: open_rasterio is Deprecated in favor of rioxarray. For information about transitioning, see: https://corteva.github.io/rioxarray/stable/getting_started/getting_started.html\n",
      "  \n"
     ]
    },
    {
     "name": "stdout",
     "output_type": "stream",
     "text": [
      "[77.0350371989269, 28.70434728194878, 77.07995296313287, 28.74373591678664]\n"
     ]
    },
    {
     "name": "stderr",
     "output_type": "stream",
     "text": [
      "/opt/conda/lib/python3.7/site-packages/ipykernel_launcher.py:14: DeprecationWarning: open_rasterio is Deprecated in favor of rioxarray. For information about transitioning, see: https://corteva.github.io/rioxarray/stable/getting_started/getting_started.html\n",
      "  \n"
     ]
    },
    {
     "name": "stdout",
     "output_type": "stream",
     "text": [
      "[77.12486872733885, 28.66494381399507, 77.16978449154482, 28.70434728194878]\n"
     ]
    },
    {
     "name": "stderr",
     "output_type": "stream",
     "text": [
      "/opt/conda/lib/python3.7/site-packages/ipykernel_launcher.py:14: DeprecationWarning: open_rasterio is Deprecated in favor of rioxarray. For information about transitioning, see: https://corteva.github.io/rioxarray/stable/getting_started/getting_started.html\n",
      "  \n"
     ]
    },
    {
     "name": "stdout",
     "output_type": "stream",
     "text": [
      "[77.25961601995678, 28.50718187266299, 77.30453178416276, 28.54664454217707]\n"
     ]
    },
    {
     "name": "stderr",
     "output_type": "stream",
     "text": [
      "/opt/conda/lib/python3.7/site-packages/ipykernel_launcher.py:14: DeprecationWarning: open_rasterio is Deprecated in favor of rioxarray. For information about transitioning, see: https://corteva.github.io/rioxarray/stable/getting_started/getting_started.html\n",
      "  \n"
     ]
    },
    {
     "name": "stdout",
     "output_type": "stream",
     "text": [
      "[-118.2482351751414, 33.87020346808818, -118.2033194109354, 33.9074889790035]\n"
     ]
    },
    {
     "name": "stderr",
     "output_type": "stream",
     "text": [
      "/opt/conda/lib/python3.7/site-packages/ipykernel_launcher.py:14: DeprecationWarning: open_rasterio is Deprecated in favor of rioxarray. For information about transitioning, see: https://corteva.github.io/rioxarray/stable/getting_started/getting_started.html\n",
      "  \n"
     ]
    },
    {
     "name": "stdout",
     "output_type": "stream",
     "text": [
      "[121.4808486829302, 25.05906406274214, 121.5257644471362, 25.09974522235117]\n"
     ]
    },
    {
     "name": "stderr",
     "output_type": "stream",
     "text": [
      "/opt/conda/lib/python3.7/site-packages/ipykernel_launcher.py:14: DeprecationWarning: open_rasterio is Deprecated in favor of rioxarray. For information about transitioning, see: https://corteva.github.io/rioxarray/stable/getting_started/getting_started.html\n",
      "  \n"
     ]
    },
    {
     "name": "stdout",
     "output_type": "stream",
     "text": [
      "[77.12486872733885, 28.7831097054843, 77.16978449154482, 28.82246863505031]\n"
     ]
    },
    {
     "name": "stderr",
     "output_type": "stream",
     "text": [
      "/opt/conda/lib/python3.7/site-packages/ipykernel_launcher.py:14: DeprecationWarning: open_rasterio is Deprecated in favor of rioxarray. For information about transitioning, see: https://corteva.github.io/rioxarray/stable/getting_started/getting_started.html\n",
      "  \n"
     ]
    },
    {
     "name": "stdout",
     "output_type": "stream",
     "text": [
      "[77.0350371989269, 28.74373591678664, 77.07995296313287, 28.7831097054843]\n"
     ]
    },
    {
     "name": "stderr",
     "output_type": "stream",
     "text": [
      "/opt/conda/lib/python3.7/site-packages/ipykernel_launcher.py:14: DeprecationWarning: open_rasterio is Deprecated in favor of rioxarray. For information about transitioning, see: https://corteva.github.io/rioxarray/stable/getting_started/getting_started.html\n",
      "  \n"
     ]
    },
    {
     "name": "stdout",
     "output_type": "stream",
     "text": [
      "[-116.9007622489621, 33.9074889790035, -116.8558464847561, 33.94475818789627]\n"
     ]
    },
    {
     "name": "stderr",
     "output_type": "stream",
     "text": [
      "/opt/conda/lib/python3.7/site-packages/ipykernel_launcher.py:14: DeprecationWarning: open_rasterio is Deprecated in favor of rioxarray. For information about transitioning, see: https://corteva.github.io/rioxarray/stable/getting_started/getting_started.html\n",
      "  \n"
     ]
    },
    {
     "name": "stdout",
     "output_type": "stream",
     "text": [
      "[77.12486872733885, 28.54664454217707, 77.16978449154482, 28.58609243100243]\n"
     ]
    },
    {
     "name": "stderr",
     "output_type": "stream",
     "text": [
      "/opt/conda/lib/python3.7/site-packages/ipykernel_launcher.py:14: DeprecationWarning: open_rasterio is Deprecated in favor of rioxarray. For information about transitioning, see: https://corteva.github.io/rioxarray/stable/getting_started/getting_started.html\n",
      "  \n"
     ]
    },
    {
     "name": "stdout",
     "output_type": "stream",
     "text": [
      "[-117.6194144762577, 34.01924766510738, -117.5744987120517, 34.05646791625069]\n"
     ]
    },
    {
     "name": "stderr",
     "output_type": "stream",
     "text": [
      "/opt/conda/lib/python3.7/site-packages/ipykernel_launcher.py:14: DeprecationWarning: open_rasterio is Deprecated in favor of rioxarray. For information about transitioning, see: https://corteva.github.io/rioxarray/stable/getting_started/getting_started.html\n",
      "  \n"
     ]
    },
    {
     "name": "stdout",
     "output_type": "stream",
     "text": [
      "[121.4808486829302, 25.01836939334328, 121.5257644471362, 25.05906406274214]\n"
     ]
    },
    {
     "name": "stderr",
     "output_type": "stream",
     "text": [
      "/opt/conda/lib/python3.7/site-packages/ipykernel_launcher.py:14: DeprecationWarning: open_rasterio is Deprecated in favor of rioxarray. For information about transitioning, see: https://corteva.github.io/rioxarray/stable/getting_started/getting_started.html\n",
      "  \n"
     ]
    },
    {
     "name": "stdout",
     "output_type": "stream",
     "text": [
      "[121.4808486829302, 25.09974522235117, 121.5257644471362, 25.14041285615363]\n"
     ]
    },
    {
     "name": "stderr",
     "output_type": "stream",
     "text": [
      "/opt/conda/lib/python3.7/site-packages/ipykernel_launcher.py:14: DeprecationWarning: open_rasterio is Deprecated in favor of rioxarray. For information about transitioning, see: https://corteva.github.io/rioxarray/stable/getting_started/getting_started.html\n",
      "  \n"
     ]
    },
    {
     "name": "stdout",
     "output_type": "stream",
     "text": [
      "[77.25961601995678, 28.62552552598286, 77.30453178416276, 28.66494381399507]\n"
     ]
    },
    {
     "name": "stderr",
     "output_type": "stream",
     "text": [
      "/opt/conda/lib/python3.7/site-packages/ipykernel_launcher.py:14: DeprecationWarning: open_rasterio is Deprecated in favor of rioxarray. For information about transitioning, see: https://corteva.github.io/rioxarray/stable/getting_started/getting_started.html\n",
      "  \n"
     ]
    },
    {
     "name": "stdout",
     "output_type": "stream",
     "text": [
      "[77.0350371989269, 28.66494381399507, 77.07995296313287, 28.70434728194878]\n"
     ]
    },
    {
     "name": "stderr",
     "output_type": "stream",
     "text": [
      "/opt/conda/lib/python3.7/site-packages/ipykernel_launcher.py:14: DeprecationWarning: open_rasterio is Deprecated in favor of rioxarray. For information about transitioning, see: https://corteva.github.io/rioxarray/stable/getting_started/getting_started.html\n",
      "  \n"
     ]
    },
    {
     "name": "stdout",
     "output_type": "stream",
     "text": [
      "[-117.8889090614936, 34.13085940091023, -117.8439932972876, 34.16803061743935]\n"
     ]
    },
    {
     "name": "stderr",
     "output_type": "stream",
     "text": [
      "/opt/conda/lib/python3.7/site-packages/ipykernel_launcher.py:14: DeprecationWarning: open_rasterio is Deprecated in favor of rioxarray. For information about transitioning, see: https://corteva.github.io/rioxarray/stable/getting_started/getting_started.html\n",
      "  \n"
     ]
    },
    {
     "name": "stdout",
     "output_type": "stream",
     "text": [
      "[-117.3499198910219, 33.64614854761477, -117.3050041268159, 33.68353168758084]\n"
     ]
    },
    {
     "name": "stderr",
     "output_type": "stream",
     "text": [
      "/opt/conda/lib/python3.7/site-packages/ipykernel_launcher.py:14: DeprecationWarning: open_rasterio is Deprecated in favor of rioxarray. For information about transitioning, see: https://corteva.github.io/rioxarray/stable/getting_started/getting_started.html\n",
      "  \n"
     ]
    }
   ],
   "source": [
    "elevations = []\n",
    "for g in  grid_data['wkt']:\n",
    "    P = shapely.wkt.loads(g)\n",
    "    coords = [P.exterior.coords[2][0], P.exterior.coords[0][1], P.exterior.coords[0][0], P.exterior.coords[2][1]]\n",
    "    print(coords)\n",
    "        \n",
    "    return_data = catalog.search(collections=[\"nasadem\"], bbox=coords)\n",
    "    \n",
    "    return_items = [item for item in return_data.get_items()]\n",
    "    signed_asset = pc.sign(return_items[0].assets[\"elevation\"])\n",
    "    \n",
    "    \n",
    "    # filter to just regions \n",
    "    da = (xr.open_rasterio(signed_asset.href).squeeze().drop(\"band\")[:-1, :-1].coarsen({\"y\": 5, \"x\": 5}).mean())\n",
    "    \n",
    "    x_coords = np.where((da.x>=coords[0]) & (da.x<= coords[2])) \n",
    "    y_coords = np.where((da.y>=coords[1]) & (da.y<= coords[3]))\n",
    "    \n",
    "    min_x = min(x_coords[0])\n",
    "    max_x = max(x_coords[0])\n",
    "\n",
    "    min_y = min(y_coords[0])\n",
    "    max_y = max(y_coords[0])\n",
    "    \n",
    "    subset =  da[min_x:max_x, min_y:max_y]\n",
    "    \n",
    "    elevations.append(np.mean(subset[0].to_numpy()))\n",
    "        \n",
    "#     plt.imshow(da)    \n",
    "#     plt.show()"
   ]
  },
  {
   "cell_type": "code",
   "execution_count": 124,
   "id": "9318c419-503f-44fb-b19e-dc0d1728f871",
   "metadata": {},
   "outputs": [],
   "source": [
    "grid_data['elevations'] = elevations"
   ]
  },
  {
   "cell_type": "code",
   "execution_count": 126,
   "id": "700aa190-5f5e-49b6-9408-37a5f10aa5fc",
   "metadata": {},
   "outputs": [],
   "source": [
    "grid_data.to_csv(\"elevation_data.csv\")"
   ]
  },
  {
   "cell_type": "code",
   "execution_count": 125,
   "id": "73f0bfd1-9afd-4522-a739-811cc2f4cb08",
   "metadata": {},
   "outputs": [
    {
     "data": {
      "text/html": [
       "<div>\n",
       "<style scoped>\n",
       "    .dataframe tbody tr th:only-of-type {\n",
       "        vertical-align: middle;\n",
       "    }\n",
       "\n",
       "    .dataframe tbody tr th {\n",
       "        vertical-align: top;\n",
       "    }\n",
       "\n",
       "    .dataframe thead th {\n",
       "        text-align: right;\n",
       "    }\n",
       "</style>\n",
       "<table border=\"1\" class=\"dataframe\">\n",
       "  <thead>\n",
       "    <tr style=\"text-align: right;\">\n",
       "      <th></th>\n",
       "      <th>grid_id</th>\n",
       "      <th>location</th>\n",
       "      <th>tz</th>\n",
       "      <th>wkt</th>\n",
       "      <th>elevations</th>\n",
       "    </tr>\n",
       "  </thead>\n",
       "  <tbody>\n",
       "    <tr>\n",
       "      <th>0</th>\n",
       "      <td>1X116</td>\n",
       "      <td>Taipei</td>\n",
       "      <td>Asia/Taipei</td>\n",
       "      <td>POLYGON ((121.5257644471362 24.97766123020391,...</td>\n",
       "      <td>0.000000</td>\n",
       "    </tr>\n",
       "    <tr>\n",
       "      <th>1</th>\n",
       "      <td>1Z2W7</td>\n",
       "      <td>Delhi</td>\n",
       "      <td>Asia/Calcutta</td>\n",
       "      <td>POLYGON ((77.30453178416276 28.54664454217707,...</td>\n",
       "      <td>216.754286</td>\n",
       "    </tr>\n",
       "    <tr>\n",
       "      <th>2</th>\n",
       "      <td>3S31A</td>\n",
       "      <td>Los Angeles (SoCAB)</td>\n",
       "      <td>Etc/GMT+8</td>\n",
       "      <td>POLYGON ((-117.9338248256995 33.79558357488509...</td>\n",
       "      <td>301.987692</td>\n",
       "    </tr>\n",
       "    <tr>\n",
       "      <th>3</th>\n",
       "      <td>6EIL6</td>\n",
       "      <td>Delhi</td>\n",
       "      <td>Asia/Calcutta</td>\n",
       "      <td>POLYGON ((77.07995296313287 28.54664454217707,...</td>\n",
       "      <td>224.335714</td>\n",
       "    </tr>\n",
       "    <tr>\n",
       "      <th>4</th>\n",
       "      <td>7334C</td>\n",
       "      <td>Delhi</td>\n",
       "      <td>Asia/Calcutta</td>\n",
       "      <td>POLYGON ((77.12486872733885 28.54664454217707,...</td>\n",
       "      <td>216.007143</td>\n",
       "    </tr>\n",
       "    <tr>\n",
       "      <th>5</th>\n",
       "      <td>78V83</td>\n",
       "      <td>Delhi</td>\n",
       "      <td>Asia/Calcutta</td>\n",
       "      <td>POLYGON ((76.94520567051495 28.54664454217707,...</td>\n",
       "      <td>292.071429</td>\n",
       "    </tr>\n",
       "    <tr>\n",
       "      <th>6</th>\n",
       "      <td>7F1D1</td>\n",
       "      <td>Delhi</td>\n",
       "      <td>Asia/Calcutta</td>\n",
       "      <td>POLYGON ((77.12486872733885 28.58609243100243,...</td>\n",
       "      <td>221.182222</td>\n",
       "    </tr>\n",
       "    <tr>\n",
       "      <th>7</th>\n",
       "      <td>8KNI6</td>\n",
       "      <td>Delhi</td>\n",
       "      <td>Asia/Calcutta</td>\n",
       "      <td>POLYGON ((77.30453178416276 28.46770443564941,...</td>\n",
       "      <td>216.497778</td>\n",
       "    </tr>\n",
       "    <tr>\n",
       "      <th>8</th>\n",
       "      <td>90BZ1</td>\n",
       "      <td>Taipei</td>\n",
       "      <td>Asia/Taipei</td>\n",
       "      <td>POLYGON ((121.5706802113421 25.01836939334328,...</td>\n",
       "      <td>0.000000</td>\n",
       "    </tr>\n",
       "    <tr>\n",
       "      <th>9</th>\n",
       "      <td>90S79</td>\n",
       "      <td>Delhi</td>\n",
       "      <td>Asia/Calcutta</td>\n",
       "      <td>POLYGON ((77.21470025575081 28.62552552598286,...</td>\n",
       "      <td>220.450000</td>\n",
       "    </tr>\n",
       "    <tr>\n",
       "      <th>10</th>\n",
       "      <td>9Q6TA</td>\n",
       "      <td>Taipei</td>\n",
       "      <td>Asia/Taipei</td>\n",
       "      <td>POLYGON ((121.5706802113421 25.05906406274214,...</td>\n",
       "      <td>0.000000</td>\n",
       "    </tr>\n",
       "    <tr>\n",
       "      <th>11</th>\n",
       "      <td>A2FBI</td>\n",
       "      <td>Los Angeles (SoCAB)</td>\n",
       "      <td>Etc/GMT+8</td>\n",
       "      <td>POLYGON ((-117.3948356552278 33.98201108613195...</td>\n",
       "      <td>901.566154</td>\n",
       "    </tr>\n",
       "    <tr>\n",
       "      <th>12</th>\n",
       "      <td>A7UCQ</td>\n",
       "      <td>Delhi</td>\n",
       "      <td>Asia/Calcutta</td>\n",
       "      <td>POLYGON ((77.25961601995678 28.58609243100243,...</td>\n",
       "      <td>214.327407</td>\n",
       "    </tr>\n",
       "    <tr>\n",
       "      <th>13</th>\n",
       "      <td>AZJ0Z</td>\n",
       "      <td>Delhi</td>\n",
       "      <td>Asia/Calcutta</td>\n",
       "      <td>POLYGON ((77.25961601995678 28.70434728194878,...</td>\n",
       "      <td>208.920000</td>\n",
       "    </tr>\n",
       "    <tr>\n",
       "      <th>14</th>\n",
       "      <td>C7PGV</td>\n",
       "      <td>Delhi</td>\n",
       "      <td>Asia/Calcutta</td>\n",
       "      <td>POLYGON ((77.21470025575081 28.50718187266299,...</td>\n",
       "      <td>220.127407</td>\n",
       "    </tr>\n",
       "    <tr>\n",
       "      <th>15</th>\n",
       "      <td>CPR0W</td>\n",
       "      <td>Delhi</td>\n",
       "      <td>Asia/Calcutta</td>\n",
       "      <td>POLYGON ((77.30453178416276 28.66494381399507,...</td>\n",
       "      <td>210.102222</td>\n",
       "    </tr>\n",
       "    <tr>\n",
       "      <th>16</th>\n",
       "      <td>D72OT</td>\n",
       "      <td>Delhi</td>\n",
       "      <td>Asia/Calcutta</td>\n",
       "      <td>POLYGON ((77.16978449154482 28.70434728194878,...</td>\n",
       "      <td>218.078519</td>\n",
       "    </tr>\n",
       "    <tr>\n",
       "      <th>17</th>\n",
       "      <td>D7S1G</td>\n",
       "      <td>Delhi</td>\n",
       "      <td>Asia/Calcutta</td>\n",
       "      <td>POLYGON ((77.34944754836873 28.66494381399507,...</td>\n",
       "      <td>208.641481</td>\n",
       "    </tr>\n",
       "    <tr>\n",
       "      <th>18</th>\n",
       "      <td>DHO4M</td>\n",
       "      <td>Los Angeles (SoCAB)</td>\n",
       "      <td>Etc/GMT+8</td>\n",
       "      <td>POLYGON ((-118.3380667035533 34.16803061743935...</td>\n",
       "      <td>1773.829231</td>\n",
       "    </tr>\n",
       "    <tr>\n",
       "      <th>19</th>\n",
       "      <td>DJN0F</td>\n",
       "      <td>Los Angeles (SoCAB)</td>\n",
       "      <td>Etc/GMT+8</td>\n",
       "      <td>POLYGON ((-117.6194144762577 34.09367183102137...</td>\n",
       "      <td>1055.196923</td>\n",
       "    </tr>\n",
       "    <tr>\n",
       "      <th>20</th>\n",
       "      <td>E2AUK</td>\n",
       "      <td>Delhi</td>\n",
       "      <td>Asia/Calcutta</td>\n",
       "      <td>POLYGON ((77.0350371989269 28.58609243100243, ...</td>\n",
       "      <td>225.525926</td>\n",
       "    </tr>\n",
       "    <tr>\n",
       "      <th>21</th>\n",
       "      <td>E5P9N</td>\n",
       "      <td>Los Angeles (SoCAB)</td>\n",
       "      <td>Etc/GMT+8</td>\n",
       "      <td>POLYGON ((-117.4846671836398 33.98201108613195...</td>\n",
       "      <td>1223.150769</td>\n",
       "    </tr>\n",
       "    <tr>\n",
       "      <th>22</th>\n",
       "      <td>FRITQ</td>\n",
       "      <td>Los Angeles (SoCAB)</td>\n",
       "      <td>Etc/GMT+8</td>\n",
       "      <td>POLYGON ((-118.1584036467294 33.83290166381627...</td>\n",
       "      <td>0.000000</td>\n",
       "    </tr>\n",
       "    <tr>\n",
       "      <th>23</th>\n",
       "      <td>GAC6R</td>\n",
       "      <td>Delhi</td>\n",
       "      <td>Asia/Calcutta</td>\n",
       "      <td>POLYGON ((77.12486872733885 28.74373591678664,...</td>\n",
       "      <td>216.437143</td>\n",
       "    </tr>\n",
       "    <tr>\n",
       "      <th>24</th>\n",
       "      <td>GJLB2</td>\n",
       "      <td>Delhi</td>\n",
       "      <td>Asia/Calcutta</td>\n",
       "      <td>POLYGON ((77.12486872733885 28.46770443564941,...</td>\n",
       "      <td>225.482963</td>\n",
       "    </tr>\n",
       "    <tr>\n",
       "      <th>25</th>\n",
       "      <td>GVQXS</td>\n",
       "      <td>Delhi</td>\n",
       "      <td>Asia/Calcutta</td>\n",
       "      <td>POLYGON ((77.21470025575081 28.66494381399507,...</td>\n",
       "      <td>218.881481</td>\n",
       "    </tr>\n",
       "    <tr>\n",
       "      <th>26</th>\n",
       "      <td>H96P6</td>\n",
       "      <td>Los Angeles (SoCAB)</td>\n",
       "      <td>Etc/GMT+8</td>\n",
       "      <td>POLYGON ((-118.5177297603772 34.16803061743935...</td>\n",
       "      <td>1004.790769</td>\n",
       "    </tr>\n",
       "    <tr>\n",
       "      <th>27</th>\n",
       "      <td>HANW9</td>\n",
       "      <td>Delhi</td>\n",
       "      <td>Asia/Calcutta</td>\n",
       "      <td>POLYGON ((77.21470025575081 28.54664454217707,...</td>\n",
       "      <td>219.737143</td>\n",
       "    </tr>\n",
       "    <tr>\n",
       "      <th>28</th>\n",
       "      <td>HM74A</td>\n",
       "      <td>Delhi</td>\n",
       "      <td>Asia/Calcutta</td>\n",
       "      <td>POLYGON ((77.12486872733885 28.66494381399507,...</td>\n",
       "      <td>223.831111</td>\n",
       "    </tr>\n",
       "    <tr>\n",
       "      <th>29</th>\n",
       "      <td>IUMEZ</td>\n",
       "      <td>Delhi</td>\n",
       "      <td>Asia/Calcutta</td>\n",
       "      <td>POLYGON ((77.25961601995678 28.62552552598286,...</td>\n",
       "      <td>217.377143</td>\n",
       "    </tr>\n",
       "    <tr>\n",
       "      <th>30</th>\n",
       "      <td>KW43U</td>\n",
       "      <td>Taipei</td>\n",
       "      <td>Asia/Taipei</td>\n",
       "      <td>POLYGON ((121.6155959755481 25.01836939334328,...</td>\n",
       "      <td>0.000000</td>\n",
       "    </tr>\n",
       "    <tr>\n",
       "      <th>31</th>\n",
       "      <td>KZ9W9</td>\n",
       "      <td>Delhi</td>\n",
       "      <td>Asia/Calcutta</td>\n",
       "      <td>POLYGON ((77.16978449154482 28.62552552598286,...</td>\n",
       "      <td>221.418571</td>\n",
       "    </tr>\n",
       "    <tr>\n",
       "      <th>32</th>\n",
       "      <td>NE7BV</td>\n",
       "      <td>Delhi</td>\n",
       "      <td>Asia/Calcutta</td>\n",
       "      <td>POLYGON ((77.12486872733885 28.82246863505031,...</td>\n",
       "      <td>214.315556</td>\n",
       "    </tr>\n",
       "    <tr>\n",
       "      <th>33</th>\n",
       "      <td>P8JA5</td>\n",
       "      <td>Delhi</td>\n",
       "      <td>Asia/Calcutta</td>\n",
       "      <td>POLYGON ((77.25961601995678 28.54664454217707,...</td>\n",
       "      <td>211.627143</td>\n",
       "    </tr>\n",
       "    <tr>\n",
       "      <th>34</th>\n",
       "      <td>PG3MI</td>\n",
       "      <td>Los Angeles (SoCAB)</td>\n",
       "      <td>Etc/GMT+8</td>\n",
       "      <td>POLYGON ((-118.2033194109354 34.05646791625069...</td>\n",
       "      <td>1222.598400</td>\n",
       "    </tr>\n",
       "    <tr>\n",
       "      <th>35</th>\n",
       "      <td>PJNW1</td>\n",
       "      <td>Delhi</td>\n",
       "      <td>Asia/Calcutta</td>\n",
       "      <td>POLYGON ((77.21470025575081 28.70434728194878,...</td>\n",
       "      <td>214.994074</td>\n",
       "    </tr>\n",
       "    <tr>\n",
       "      <th>36</th>\n",
       "      <td>PW0JT</td>\n",
       "      <td>Delhi</td>\n",
       "      <td>Asia/Calcutta</td>\n",
       "      <td>POLYGON ((76.94520567051495 28.66494381399507,...</td>\n",
       "      <td>309.317037</td>\n",
       "    </tr>\n",
       "    <tr>\n",
       "      <th>37</th>\n",
       "      <td>QJHW4</td>\n",
       "      <td>Los Angeles (SoCAB)</td>\n",
       "      <td>Etc/GMT+8</td>\n",
       "      <td>POLYGON ((-118.5177297603772 34.35364110514904...</td>\n",
       "      <td>1313.873600</td>\n",
       "    </tr>\n",
       "    <tr>\n",
       "      <th>38</th>\n",
       "      <td>S77YN</td>\n",
       "      <td>Delhi</td>\n",
       "      <td>Asia/Calcutta</td>\n",
       "      <td>POLYGON ((77.07995296313287 28.70434728194878,...</td>\n",
       "      <td>224.102222</td>\n",
       "    </tr>\n",
       "    <tr>\n",
       "      <th>39</th>\n",
       "      <td>SZLMT</td>\n",
       "      <td>Delhi</td>\n",
       "      <td>Asia/Calcutta</td>\n",
       "      <td>POLYGON ((77.16978449154482 28.66494381399507,...</td>\n",
       "      <td>220.743704</td>\n",
       "    </tr>\n",
       "    <tr>\n",
       "      <th>40</th>\n",
       "      <td>UC74Z</td>\n",
       "      <td>Delhi</td>\n",
       "      <td>Asia/Calcutta</td>\n",
       "      <td>POLYGON ((77.30453178416276 28.50718187266299,...</td>\n",
       "      <td>215.939259</td>\n",
       "    </tr>\n",
       "    <tr>\n",
       "      <th>41</th>\n",
       "      <td>VBLD0</td>\n",
       "      <td>Los Angeles (SoCAB)</td>\n",
       "      <td>Etc/GMT+8</td>\n",
       "      <td>POLYGON ((-118.2033194109354 33.87020346808818...</td>\n",
       "      <td>0.000000</td>\n",
       "    </tr>\n",
       "    <tr>\n",
       "      <th>42</th>\n",
       "      <td>VR4WG</td>\n",
       "      <td>Taipei</td>\n",
       "      <td>Asia/Taipei</td>\n",
       "      <td>POLYGON ((121.5257644471362 25.05906406274214,...</td>\n",
       "      <td>0.000000</td>\n",
       "    </tr>\n",
       "    <tr>\n",
       "      <th>43</th>\n",
       "      <td>VXNN3</td>\n",
       "      <td>Delhi</td>\n",
       "      <td>Asia/Calcutta</td>\n",
       "      <td>POLYGON ((77.16978449154482 28.7831097054843, ...</td>\n",
       "      <td>212.911111</td>\n",
       "    </tr>\n",
       "    <tr>\n",
       "      <th>44</th>\n",
       "      <td>VYH7U</td>\n",
       "      <td>Delhi</td>\n",
       "      <td>Asia/Calcutta</td>\n",
       "      <td>POLYGON ((77.07995296313287 28.74373591678664,...</td>\n",
       "      <td>223.718571</td>\n",
       "    </tr>\n",
       "    <tr>\n",
       "      <th>45</th>\n",
       "      <td>WT52R</td>\n",
       "      <td>Los Angeles (SoCAB)</td>\n",
       "      <td>Etc/GMT+8</td>\n",
       "      <td>POLYGON ((-116.8558464847561 33.9074889790035,...</td>\n",
       "      <td>796.892308</td>\n",
       "    </tr>\n",
       "    <tr>\n",
       "      <th>46</th>\n",
       "      <td>WZNCR</td>\n",
       "      <td>Delhi</td>\n",
       "      <td>Asia/Calcutta</td>\n",
       "      <td>POLYGON ((77.16978449154482 28.54664454217707,...</td>\n",
       "      <td>218.448571</td>\n",
       "    </tr>\n",
       "    <tr>\n",
       "      <th>47</th>\n",
       "      <td>X5DKW</td>\n",
       "      <td>Los Angeles (SoCAB)</td>\n",
       "      <td>Etc/GMT+8</td>\n",
       "      <td>POLYGON ((-117.5744987120517 34.01924766510738...</td>\n",
       "      <td>1233.087692</td>\n",
       "    </tr>\n",
       "    <tr>\n",
       "      <th>48</th>\n",
       "      <td>XJF9O</td>\n",
       "      <td>Taipei</td>\n",
       "      <td>Asia/Taipei</td>\n",
       "      <td>POLYGON ((121.5257644471362 25.01836939334328,...</td>\n",
       "      <td>0.000000</td>\n",
       "    </tr>\n",
       "    <tr>\n",
       "      <th>49</th>\n",
       "      <td>XNLVD</td>\n",
       "      <td>Taipei</td>\n",
       "      <td>Asia/Taipei</td>\n",
       "      <td>POLYGON ((121.5257644471362 25.09974522235117,...</td>\n",
       "      <td>0.000000</td>\n",
       "    </tr>\n",
       "    <tr>\n",
       "      <th>50</th>\n",
       "      <td>YHOPV</td>\n",
       "      <td>Delhi</td>\n",
       "      <td>Asia/Calcutta</td>\n",
       "      <td>POLYGON ((77.30453178416276 28.62552552598286,...</td>\n",
       "      <td>216.200000</td>\n",
       "    </tr>\n",
       "    <tr>\n",
       "      <th>51</th>\n",
       "      <td>ZF3ZW</td>\n",
       "      <td>Delhi</td>\n",
       "      <td>Asia/Calcutta</td>\n",
       "      <td>POLYGON ((77.07995296313287 28.66494381399507,...</td>\n",
       "      <td>224.602963</td>\n",
       "    </tr>\n",
       "    <tr>\n",
       "      <th>52</th>\n",
       "      <td>ZP1FZ</td>\n",
       "      <td>Los Angeles (SoCAB)</td>\n",
       "      <td>Etc/GMT+8</td>\n",
       "      <td>POLYGON ((-117.8439932972876 34.13085940091023...</td>\n",
       "      <td>670.226154</td>\n",
       "    </tr>\n",
       "    <tr>\n",
       "      <th>53</th>\n",
       "      <td>ZZ8JF</td>\n",
       "      <td>Los Angeles (SoCAB)</td>\n",
       "      <td>Etc/GMT+8</td>\n",
       "      <td>POLYGON ((-117.3050041268159 33.64614854761477...</td>\n",
       "      <td>0.000000</td>\n",
       "    </tr>\n",
       "  </tbody>\n",
       "</table>\n",
       "</div>"
      ],
      "text/plain": [
       "   grid_id             location             tz  \\\n",
       "0    1X116               Taipei    Asia/Taipei   \n",
       "1    1Z2W7                Delhi  Asia/Calcutta   \n",
       "2    3S31A  Los Angeles (SoCAB)      Etc/GMT+8   \n",
       "3    6EIL6                Delhi  Asia/Calcutta   \n",
       "4    7334C                Delhi  Asia/Calcutta   \n",
       "5    78V83                Delhi  Asia/Calcutta   \n",
       "6    7F1D1                Delhi  Asia/Calcutta   \n",
       "7    8KNI6                Delhi  Asia/Calcutta   \n",
       "8    90BZ1               Taipei    Asia/Taipei   \n",
       "9    90S79                Delhi  Asia/Calcutta   \n",
       "10   9Q6TA               Taipei    Asia/Taipei   \n",
       "11   A2FBI  Los Angeles (SoCAB)      Etc/GMT+8   \n",
       "12   A7UCQ                Delhi  Asia/Calcutta   \n",
       "13   AZJ0Z                Delhi  Asia/Calcutta   \n",
       "14   C7PGV                Delhi  Asia/Calcutta   \n",
       "15   CPR0W                Delhi  Asia/Calcutta   \n",
       "16   D72OT                Delhi  Asia/Calcutta   \n",
       "17   D7S1G                Delhi  Asia/Calcutta   \n",
       "18   DHO4M  Los Angeles (SoCAB)      Etc/GMT+8   \n",
       "19   DJN0F  Los Angeles (SoCAB)      Etc/GMT+8   \n",
       "20   E2AUK                Delhi  Asia/Calcutta   \n",
       "21   E5P9N  Los Angeles (SoCAB)      Etc/GMT+8   \n",
       "22   FRITQ  Los Angeles (SoCAB)      Etc/GMT+8   \n",
       "23   GAC6R                Delhi  Asia/Calcutta   \n",
       "24   GJLB2                Delhi  Asia/Calcutta   \n",
       "25   GVQXS                Delhi  Asia/Calcutta   \n",
       "26   H96P6  Los Angeles (SoCAB)      Etc/GMT+8   \n",
       "27   HANW9                Delhi  Asia/Calcutta   \n",
       "28   HM74A                Delhi  Asia/Calcutta   \n",
       "29   IUMEZ                Delhi  Asia/Calcutta   \n",
       "30   KW43U               Taipei    Asia/Taipei   \n",
       "31   KZ9W9                Delhi  Asia/Calcutta   \n",
       "32   NE7BV                Delhi  Asia/Calcutta   \n",
       "33   P8JA5                Delhi  Asia/Calcutta   \n",
       "34   PG3MI  Los Angeles (SoCAB)      Etc/GMT+8   \n",
       "35   PJNW1                Delhi  Asia/Calcutta   \n",
       "36   PW0JT                Delhi  Asia/Calcutta   \n",
       "37   QJHW4  Los Angeles (SoCAB)      Etc/GMT+8   \n",
       "38   S77YN                Delhi  Asia/Calcutta   \n",
       "39   SZLMT                Delhi  Asia/Calcutta   \n",
       "40   UC74Z                Delhi  Asia/Calcutta   \n",
       "41   VBLD0  Los Angeles (SoCAB)      Etc/GMT+8   \n",
       "42   VR4WG               Taipei    Asia/Taipei   \n",
       "43   VXNN3                Delhi  Asia/Calcutta   \n",
       "44   VYH7U                Delhi  Asia/Calcutta   \n",
       "45   WT52R  Los Angeles (SoCAB)      Etc/GMT+8   \n",
       "46   WZNCR                Delhi  Asia/Calcutta   \n",
       "47   X5DKW  Los Angeles (SoCAB)      Etc/GMT+8   \n",
       "48   XJF9O               Taipei    Asia/Taipei   \n",
       "49   XNLVD               Taipei    Asia/Taipei   \n",
       "50   YHOPV                Delhi  Asia/Calcutta   \n",
       "51   ZF3ZW                Delhi  Asia/Calcutta   \n",
       "52   ZP1FZ  Los Angeles (SoCAB)      Etc/GMT+8   \n",
       "53   ZZ8JF  Los Angeles (SoCAB)      Etc/GMT+8   \n",
       "\n",
       "                                                  wkt   elevations  \n",
       "0   POLYGON ((121.5257644471362 24.97766123020391,...     0.000000  \n",
       "1   POLYGON ((77.30453178416276 28.54664454217707,...   216.754286  \n",
       "2   POLYGON ((-117.9338248256995 33.79558357488509...   301.987692  \n",
       "3   POLYGON ((77.07995296313287 28.54664454217707,...   224.335714  \n",
       "4   POLYGON ((77.12486872733885 28.54664454217707,...   216.007143  \n",
       "5   POLYGON ((76.94520567051495 28.54664454217707,...   292.071429  \n",
       "6   POLYGON ((77.12486872733885 28.58609243100243,...   221.182222  \n",
       "7   POLYGON ((77.30453178416276 28.46770443564941,...   216.497778  \n",
       "8   POLYGON ((121.5706802113421 25.01836939334328,...     0.000000  \n",
       "9   POLYGON ((77.21470025575081 28.62552552598286,...   220.450000  \n",
       "10  POLYGON ((121.5706802113421 25.05906406274214,...     0.000000  \n",
       "11  POLYGON ((-117.3948356552278 33.98201108613195...   901.566154  \n",
       "12  POLYGON ((77.25961601995678 28.58609243100243,...   214.327407  \n",
       "13  POLYGON ((77.25961601995678 28.70434728194878,...   208.920000  \n",
       "14  POLYGON ((77.21470025575081 28.50718187266299,...   220.127407  \n",
       "15  POLYGON ((77.30453178416276 28.66494381399507,...   210.102222  \n",
       "16  POLYGON ((77.16978449154482 28.70434728194878,...   218.078519  \n",
       "17  POLYGON ((77.34944754836873 28.66494381399507,...   208.641481  \n",
       "18  POLYGON ((-118.3380667035533 34.16803061743935...  1773.829231  \n",
       "19  POLYGON ((-117.6194144762577 34.09367183102137...  1055.196923  \n",
       "20  POLYGON ((77.0350371989269 28.58609243100243, ...   225.525926  \n",
       "21  POLYGON ((-117.4846671836398 33.98201108613195...  1223.150769  \n",
       "22  POLYGON ((-118.1584036467294 33.83290166381627...     0.000000  \n",
       "23  POLYGON ((77.12486872733885 28.74373591678664,...   216.437143  \n",
       "24  POLYGON ((77.12486872733885 28.46770443564941,...   225.482963  \n",
       "25  POLYGON ((77.21470025575081 28.66494381399507,...   218.881481  \n",
       "26  POLYGON ((-118.5177297603772 34.16803061743935...  1004.790769  \n",
       "27  POLYGON ((77.21470025575081 28.54664454217707,...   219.737143  \n",
       "28  POLYGON ((77.12486872733885 28.66494381399507,...   223.831111  \n",
       "29  POLYGON ((77.25961601995678 28.62552552598286,...   217.377143  \n",
       "30  POLYGON ((121.6155959755481 25.01836939334328,...     0.000000  \n",
       "31  POLYGON ((77.16978449154482 28.62552552598286,...   221.418571  \n",
       "32  POLYGON ((77.12486872733885 28.82246863505031,...   214.315556  \n",
       "33  POLYGON ((77.25961601995678 28.54664454217707,...   211.627143  \n",
       "34  POLYGON ((-118.2033194109354 34.05646791625069...  1222.598400  \n",
       "35  POLYGON ((77.21470025575081 28.70434728194878,...   214.994074  \n",
       "36  POLYGON ((76.94520567051495 28.66494381399507,...   309.317037  \n",
       "37  POLYGON ((-118.5177297603772 34.35364110514904...  1313.873600  \n",
       "38  POLYGON ((77.07995296313287 28.70434728194878,...   224.102222  \n",
       "39  POLYGON ((77.16978449154482 28.66494381399507,...   220.743704  \n",
       "40  POLYGON ((77.30453178416276 28.50718187266299,...   215.939259  \n",
       "41  POLYGON ((-118.2033194109354 33.87020346808818...     0.000000  \n",
       "42  POLYGON ((121.5257644471362 25.05906406274214,...     0.000000  \n",
       "43  POLYGON ((77.16978449154482 28.7831097054843, ...   212.911111  \n",
       "44  POLYGON ((77.07995296313287 28.74373591678664,...   223.718571  \n",
       "45  POLYGON ((-116.8558464847561 33.9074889790035,...   796.892308  \n",
       "46  POLYGON ((77.16978449154482 28.54664454217707,...   218.448571  \n",
       "47  POLYGON ((-117.5744987120517 34.01924766510738...  1233.087692  \n",
       "48  POLYGON ((121.5257644471362 25.01836939334328,...     0.000000  \n",
       "49  POLYGON ((121.5257644471362 25.09974522235117,...     0.000000  \n",
       "50  POLYGON ((77.30453178416276 28.62552552598286,...   216.200000  \n",
       "51  POLYGON ((77.07995296313287 28.66494381399507,...   224.602963  \n",
       "52  POLYGON ((-117.8439932972876 34.13085940091023...   670.226154  \n",
       "53  POLYGON ((-117.3050041268159 33.64614854761477...     0.000000  "
      ]
     },
     "execution_count": 125,
     "metadata": {},
     "output_type": "execute_result"
    }
   ],
   "source": [
    "grid_data"
   ]
  },
  {
   "cell_type": "code",
   "execution_count": null,
   "id": "a5b27af3-f734-493a-af16-aa7a81b4cb29",
   "metadata": {},
   "outputs": [],
   "source": []
  }
 ],
 "metadata": {
  "environment": {
   "kernel": "python3",
   "name": "common-cpu.m89",
   "type": "gcloud",
   "uri": "gcr.io/deeplearning-platform-release/base-cpu:m89"
  },
  "kernelspec": {
   "display_name": "Python 3",
   "language": "python",
   "name": "python3"
  },
  "language_info": {
   "codemirror_mode": {
    "name": "ipython",
    "version": 3
   },
   "file_extension": ".py",
   "mimetype": "text/x-python",
   "name": "python",
   "nbconvert_exporter": "python",
   "pygments_lexer": "ipython3",
   "version": "3.7.12"
  }
 },
 "nbformat": 4,
 "nbformat_minor": 5
}
